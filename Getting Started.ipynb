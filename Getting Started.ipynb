{
 "cells": [
  {
   "cell_type": "markdown",
   "id": "ca6f6ed6-79e9-4efc-836a-040000ce8c89",
   "metadata": {
    "tags": []
   },
   "source": [
    "# Getting Started with Amazon SageMaker Studio Lite"
   ]
  },
  {
   "cell_type": "markdown",
   "id": "f7a6b606-a68d-43e6-bc43-598ce32032cc",
   "metadata": {},
   "source": [
    "## Welcome to your SageMaker Studio Lite project"
   ]
  },
  {
   "cell_type": "markdown",
   "id": "1cb73cc2-b03b-4c3b-a33b-e84a01eb55a7",
   "metadata": {},
   "source": [
    "Your SageMaker Studio Lite project is a notebook development environment with 15 GB of persistent storage and access to a CPU or GPU runtime. Everything about your project is automatically saved (notebooks, source code files, datasets, Git repos you have cloned, Conda environments, JupyterLab extensions, etc.) so each time you launch your product you can pick up where you left off. SageMaker Studio Lite is based on the open-source JupyterLab, so you can take advantage of open-source Jupyter extensions in your project."
   ]
  },
  {
   "cell_type": "markdown",
   "id": "64b5e9bd-abca-4f7f-9a92-889edf4a218d",
   "metadata": {},
   "source": [
    "## Running Python code"
   ]
  },
  {
   "cell_type": "markdown",
   "id": "d24aa6e0-8b62-412a-a318-f89d71a51bbd",
   "metadata": {},
   "source": [
    "This Getting Started document is a Jupyter notebook. Notebooks enable you to combine live code, equations, Markdown, images, visualizations, and other content into a single document that you can share with other people. \n",
    "\n",
    "To run the following Python code, select the cell with a click, and then enter `Shift-Enter` on your keyboard or click the play button in the notebook toolbar at the top of the document."
   ]
  },
  {
   "cell_type": "code",
   "execution_count": 1,
   "id": "87a80480-cf35-4fc1-a403-25a83fe17f44",
   "metadata": {},
   "outputs": [
    {
     "name": "stdout",
     "output_type": "stream",
     "text": [
      "10 20 30\n"
     ]
    }
   ],
   "source": [
    "a = 10\n",
    "b = 20\n",
    "c = a + b\n",
    "print(a, b, c)"
   ]
  },
  {
   "cell_type": "markdown",
   "id": "92896163-cda2-4935-a1ea-14e2892734aa",
   "metadata": {},
   "source": [
    "To learn more about Python see [TODO]()."
   ]
  },
  {
   "cell_type": "markdown",
   "id": "65a34fd6-c902-442a-982f-9721f3855d36",
   "metadata": {
    "tags": []
   },
   "source": [
    "## Creating notebooks, source code files and accessing the Terminal"
   ]
  },
  {
   "cell_type": "markdown",
   "id": "abdeb1bc-071f-4441-a058-8302631c63dd",
   "metadata": {},
   "source": [
    "SageMaker Studio Lite enables you to create notebooks, source code files, or accessing the builtin terminal. All of this can be done by accessing the launcher by clikcing on the blue \"+\" button at the top of the file browser in the left panel:\n",
    "\n",
    "![Launcher Button](images/launcher_button.png)"
   ]
  },
  {
   "cell_type": "markdown",
   "id": "3c9dc584-12c6-488f-9bcc-d67b4c61931f",
   "metadata": {},
   "source": [
    "Once you open the launcher, you will see a set of cards that allow you to launch notebooks in different environments, create source code files, or access the terminal:\n",
    "\n",
    "![Launcher Cards](images/launcher_cards.png)"
   ]
  },
  {
   "cell_type": "markdown",
   "id": "8940e135-cebe-406f-8a06-5e4e80b1f29d",
   "metadata": {},
   "source": [
    "All of the notebooks, files or datasets that you create are saved in your persistent project directory and will be available anytime you launch your project. To get help or access documentation about SageMaker Studio Lite or JupyterLab, click on the **Help** menu in the menu bar at the top of the page."
   ]
  },
  {
   "cell_type": "markdown",
   "id": "a1172abf-4034-4b49-a907-58096e29489c",
   "metadata": {},
   "source": [
    "## SageMaker Studio Lite example notebooks"
   ]
  },
  {
   "cell_type": "markdown",
   "id": "9d449e38-4dda-4f80-9639-e053efb97021",
   "metadata": {},
   "source": [
    "SageMaker Studio Lite is a full blown notebook development environment that works with familiar open-source data science and machine learning libraries, such as [NumPy](https://numpy.org/), [pandas](https://pandas.pydata.org/), [scikit-learn](https://scikit-learn.org/stable/), [PyTorch](https://pytorch.org/), and [TensorFlow](https://www.tensorflow.org/). \n",
    "\n",
    "To help you take the next steps, we have a GitHub repository with a set of example notebooks that cover a wide range of data science and machine learning topics, from importing and cleaning data to data visualization and training machine learning models.\n",
    "\n",
    "The SageMaker Studio Lite example notebooks are in a GitHub repository, which you can quickly clone to your project by clicking on the following button:\n",
    "\n",
    "<button data-commandlinker-command=\"git:clone\" data-commandlinker-args=\"{&quot;url&quot;: &quot;https://github.com/aws/amazon-sagemaker-examples.git&quot;}\">Clone SageMaker Studio Lite Example Notebooks</button>"
   ]
  },
  {
   "cell_type": "markdown",
   "id": "be3fe679-151f-4ab9-ad67-81ecb7eb99db",
   "metadata": {
    "jp-MarkdownHeadingCollapsed": true,
    "tags": []
   },
   "source": [
    "## D2L.ai\n",
    "\n",
    "[Dive into Deep Learning (D2L)](https://www.d2l.ai/) is a deep learning textbook adopted by more than 200 universities in the world (e.g. Stanford University, Massachusetts Institute of Technology, Carnegie Mellon University, Tsinghua University). \n",
    "\n",
    "![Launcher Cards](10uni_logos_row.png)\n",
    "\n",
    "D2L.ai provides a comprehensive deep learning studying experience with interactive code, as well as discussions with top AWS researchers online. With D2L.ai, you will gain fundamental knowledge in machine learning, as well as obtain hands-on experience in domains such as computer vision, natural language processing, etc. \n",
    "\n",
    "D2L.ai is free for SageMaker Studio Lite users. By one-clicking <button data-commandlinker-command=\"git:clone\" data-commandlinker-args=\"{&quot;url&quot;: &quot;https://github.com/d2l-ai/d2l-pytorch-seychelles.git&quot;}\">Clone D2L Notebooks</button>, you will get access to all the notebooks. \n"
   ]
  },
  {
   "cell_type": "markdown",
   "id": "e47794bb-ceb7-4bc2-9416-d45ec9401985",
   "metadata": {},
   "source": [
    "By default, your project will use a CPU runtime with X GB or RAM and Y CPUs. To switch you a GPU runtime, save all your work and then select the *Switch to GPU Runtime* item in the *SageMaker Studio Lite* menu. Switching the runtime will stop all your kernels, but all of your notebooks, files, and dataset will be saved in your persistent project directory."
   ]
  },
  {
   "cell_type": "markdown",
   "id": "c3fc6dff-3784-4c71-8f26-de9c0b958d89",
   "metadata": {
    "jp-MarkdownHeadingCollapsed": true,
    "tags": []
   },
   "source": [
    "## Managing packages and Conda environments"
   ]
  },
  {
   "cell_type": "markdown",
   "id": "60d642cf-774a-4e42-b27e-70fd5555753f",
   "metadata": {
    "tags": []
   },
   "source": [
    "### Your default environment\n",
    "\n",
    "SageMaker Studio Lite uses Conda environments to encapsulate the software (Python, R, etc.) packages needed to run notebooks. Your project contains a default Conda environment, named `default`, with the [IPython kernel](https://ipython.readthedocs.io/en/stable/) and that is about it. There are a couple of ways to install additional packages into this environment.\n",
    "\n",
    "**First**, you can use the following magic commands in any notebook:\n",
    "\n",
    "`%conda install <package>`\n",
    "\n",
    "`%pip install <package>`\n",
    "\n",
    "These magic commands will always install packages into the environment used by that notebook and any packages you install are saved in your persistent project directory. Note: we don't recommend using `!pip` or `!conda` as those can behave in unexpected ways when you have multiple environments.\n",
    "\n",
    "**Alternatively**, you can open the Terminal and activate the environment using:\n",
    "\n",
    "`$ conda activate default`\n",
    "\n",
    "Once the environment is activated, you can install packages using the [Conda](https://docs.conda.io/en/latest/) or [pip](https://pip.pypa.io/en/stable/) command lines:\n",
    "\n",
    "`$ conda install <package>`\n",
    "\n",
    "`$ pip install <package>`\n",
    "\n",
    "The conda installation for SageMaker Studio Lite uses a default channel of [conda-forge](https://conda-forge.org/), so you don't need to add the `-c conda-forge` argument when calling `conda install`."
   ]
  },
  {
   "cell_type": "markdown",
   "id": "9c3eebd2-a3c4-4435-b76a-c73ab14220ac",
   "metadata": {},
   "source": [
    "### Creating and using new Conda environments\n",
    "\n",
    "There are a couple of ways of creating new Conda environments.\n",
    "\n",
    "**First**, you can open the Terminal and directly create a new environment using the Conda command line:\n",
    "\n",
    "`$ conda env create --name my_environment python=3.9`\n",
    "\n",
    "This example creates an new environment named `my_environment` with Python 3.9.\n",
    "\n",
    "**Alternatively**, if you have a Conda environment file, can right click on the file in the JupyterLab file browser, and select the \"Build Conda Environment\" item:\n",
    "\n",
    "![Create Environment](images/create_environment.png)\n",
    "\n",
    "To activate any Conda environment in the Terminal, run:\n",
    "\n",
    "`$ conda activate my_environment`\n",
    "\n",
    "Once you do this, any pakcages installed using Conda or pip will be installed in that environment.\n",
    "\n",
    "To use your new Conda environments with notebooks, make sure the `ipykernel` package is installed into that environment:\n",
    "\n",
    "`$ conda install ipykernel`\n",
    "\n",
    "Once you have done that, you should see a card in the launcher for that environment and kernel."
   ]
  },
  {
   "cell_type": "markdown",
   "id": "c3e99708-4878-42a9-ac30-42b3e1370e0e",
   "metadata": {},
   "source": [
    "### SageMaker Studio Lite example environments\n",
    "\n",
    "SageMaker Studio Lite includes example Conda environments for a number of scenarios. These can be found in the `environments` directory.\n",
    "\n",
    "<button data-commandlinker-command=\"filebrowser:go-to-path\" data-commandlinker-args=\"{&quot;path&quot;: &quot;environments&quot;}\">Navigate to the environments directory</button>\n",
    "\n",
    "Any of these environments can be built as described above. Here is a list of the example environments:\n",
    "\n",
    "* `d2l-pytorch-0.17.0.yml`, Python kernel with packages for d2l with PyTorch\n",
    "* `huggingface-pt.yml`, Python kernel for Hugging Face with PyTorch\n",
    "* `huggingface-tf.yml`, Python kernel for Hugging Face with TensorFlow\n",
    "* `R.yml`, R kernel with packages for data science in R\n",
    "* `scipy.yml`: Python kernel with common data science packages\n"
   ]
  },
  {
   "cell_type": "markdown",
   "id": "3eafe54e-db32-413d-80c5-3ee3304c0057",
   "metadata": {
    "jp-MarkdownHeadingCollapsed": true,
    "tags": []
   },
   "source": [
    "## Installing JupyterLab and Jupyter Server extensions"
   ]
  },
  {
   "cell_type": "markdown",
   "id": "da909220-502a-44f1-bdf3-28640e0a6762",
   "metadata": {},
   "source": [
    "SageMaker Studio Lite enables you to install open-source JupyterLab and Jupyter Server extensions. These extensions are typically Python packages that can be installed using `conda` or `pip`. To install these extensions, open the Terminal and activate the `default-jupyterlab` environment:\n",
    "\n",
    "`$ conda activate default-jupyterlab`\n",
    "\n",
    "Then you can install the relevant JupyterLab or Jupyter Server extension:\n",
    "\n",
    "`$ conda install <jupyter_extension>`\n",
    "\n",
    "Finally, you need to restart JupyterLab using the *Restart JupyterLab Server* item in the *SageMaker Studio Lite menu*."
   ]
  },
  {
   "cell_type": "markdown",
   "id": "dc512310-03a0-4c59-ab26-70b616ec53c3",
   "metadata": {},
   "source": [
    "## Cloning GitHub repositories"
   ]
  },
  {
   "cell_type": "markdown",
   "id": "3ccf5dc1-e639-42a4-be9b-adb312380530",
   "metadata": {
    "jp-MarkdownHeadingCollapsed": true,
    "tags": []
   },
   "source": [
    "## Adding *Open in SageMaker Studio Lite* links to your GitHub repositories"
   ]
  },
  {
   "cell_type": "markdown",
   "id": "20fed9f7-6560-4542-ad58-74622b193a12",
   "metadata": {},
   "source": [
    "SageMaker Studio Lite enables anyone with notebook-based content of GitHub to add *Open in SageMaker Studio Lite* links to your `README.md` or notebooks. This enables anyone in the world to quickly preview and and import your content into their SageMaker Studio Lite Project. The format of these links is as follows:\n",
    "\n",
    "`subdomain.domain/import/github/org/repo/path/to/file.ipynb`\n",
    "\n",
    "[Learn more about adding *Open in SageMaker Studio Lite* links to your GitHub repositories](https://aws.amazon.com/sagemaker/studio/)."
   ]
  },
  {
   "cell_type": "markdown",
   "id": "63b373a4-5fe6-4d68-a821-9a0b1715bad0",
   "metadata": {
    "jp-MarkdownHeadingCollapsed": true,
    "tags": []
   },
   "source": [
    "## Export your Project to SageMaker Studio"
   ]
  },
  {
   "cell_type": "markdown",
   "id": "94eccdb6-5a34-40f2-9e0c-50b074b22f74",
   "metadata": {},
   "source": [
    "Do you need access to more compute and storage? To a wider array of instances? To other AWS services? Amazon SageMaker Studio provides a similar environment to SageMaker Studio Lite, but with all the power and flexibility of AWS.\n",
    "\n",
    "To export your Project to Amazon SageMaker Studio, select the *Export Project to SageMaker Studio* item in the *SageMaker Studio Lite* menu and follow the instructions.\n",
    "\n",
    "[Learn more about SageMaker Studio.](https://aws.amazon.com/sagemaker/studio/)"
   ]
  }
 ],
 "metadata": {
  "kernelspec": {
   "display_name": "Python 3",
   "language": "python",
   "name": "python3"
  },
  "language_info": {
   "codemirror_mode": {
    "name": "ipython",
    "version": 3
   },
   "file_extension": ".py",
   "mimetype": "text/x-python",
   "name": "python",
   "nbconvert_exporter": "python",
   "pygments_lexer": "ipython3",
   "version": "3.8.8"
  }
 },
 "nbformat": 4,
 "nbformat_minor": 5
}
