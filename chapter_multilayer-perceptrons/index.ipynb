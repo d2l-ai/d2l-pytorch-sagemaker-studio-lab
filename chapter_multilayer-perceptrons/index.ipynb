{
 "cells": [
  {
   "cell_type": "markdown",
   "metadata": {},
   "source": [
    "[![Open In Studio Lab](https://studiolab.sagemaker.aws/studiolab.svg)](https://studiolab.sagemaker.aws/import/github/d2l-ai/d2l-pytorch-sagemaker-studio-lab/blob/main/chapter_multilayer-perceptrons/index.ipynb)\n",
    "\n",
    "# 4 Multilayer Perceptrons\n",
    "\n",
    "\n",
    "In this chapter, we will introduce your first truly *deep* network.\n",
    "The simplest deep networks are called multilayer perceptrons,\n",
    "and they consist of multiple layers of neurons\n",
    "each fully connected to those in the layer below\n",
    "(from which they receive input)\n",
    "and those above (which they, in turn, influence).\n",
    "When we train high-capacity models we run the risk of overfitting.\n",
    "Thus, we will need to provide your first rigorous introduction\n",
    "to the notions of overfitting, underfitting, and model selection.\n",
    "To help you combat these problems,\n",
    "we will introduce regularization techniques such as weight decay and dropout.\n",
    "We will also discuss issues relating to numerical stability and parameter initialization\n",
    "that are key to successfully training deep networks.\n",
    "Throughout, we aim to give you a firm grasp not just of the concepts\n",
    "but also of the practice of using deep networks.\n",
    "At the end of this chapter,\n",
    "we apply what we have introduced so far to a real case: house price prediction.\n",
    "We punt matters relating to the computational performance,\n",
    "scalability, and efficiency of our models to subsequent chapters.\n",
    "\n",
    ":begin_tab:toc\n",
    " - [mlp](mlp.ipynb)\n",
    " - [mlp-scratch](mlp-scratch.ipynb)\n",
    " - [mlp-concise](mlp-concise.ipynb)\n",
    " - [underfit-overfit](underfit-overfit.ipynb)\n",
    " - [weight-decay](weight-decay.ipynb)\n",
    " - [dropout](dropout.ipynb)\n",
    " - [backprop](backprop.ipynb)\n",
    " - [numerical-stability-and-init](numerical-stability-and-init.ipynb)\n",
    " - [environment](environment.ipynb)\n",
    " - [kaggle-house-price](kaggle-house-price.ipynb)\n",
    ":end_tab:\n"
   ]
  }
 ],
 "metadata": {
  "instance_type": "ml.g4dn.xlarge",
  "kernelspec": {
   "display_name": "d2l",
   "language": "python",
   "name": "conda-env-d2l-py"
  },
  "language_info": {
   "name": "python"
  }
 },
 "nbformat": 4,
 "nbformat_minor": 4
}