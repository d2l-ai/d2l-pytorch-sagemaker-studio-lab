{
 "cells": [
  {
   "cell_type": "markdown",
   "metadata": {},
   "source": [
    "# 18.1 Using Amazon SageMaker\n",
    "\n",
    "\n",
    "Many deep learning applications require a significant amount of computation. Your local machine might be too slow to solve these problems in a reasonable amount of time. Cloud computing services give you access to more powerful computers to run the GPU-intensive portions of this book. This tutorial will guide you through Amazon SageMaker: a service that allows you to run this book easily.\n",
    "\n",
    "\n",
    "## 18.1.1 Registering and Logging In\n",
    "\n",
    "First, we need to register an account at https://aws.amazon.com/. We encourage you to use two-factor authentication for additional security. It is also a good idea to set up detailed billing and spending alerts to avoid any unexpected surprises in case you forget to stop any running instance.\n",
    "Note that you will need a credit card.\n",
    "After logging into your AWS account, go to your [console](http://console.aws.amazon.com/) and search for \"SageMaker\" (see [Fig. 18.1.1](#fig18.1.1)) then click to open the SageMaker panel.\n",
    "\n",
    "![Open the SageMaker panel.](../img/sagemaker.png)\n",
    "\n",
    "<center id=\"fig18.1.1\"><i>Fig. 18.1.1 Open the SageMaker panel.</i></center>\n",
    "\n",
    "\n",
    "\n",
    "## 18.1.2 Creating a SageMaker Instance\n",
    "\n",
    "Next, let us create a notebook instance as described in [Fig. 18.1.2](#fig18.1.2).\n",
    "\n",
    "![Create a SageMaker instance.](../img/sagemaker-create.png)\n",
    "\n",
    "<center id=\"fig18.1.2\"><i>Fig. 18.1.2 Create a SageMaker instance.</i></center>\n",
    "\n",
    "SageMaker provides multiple [instance types](https://aws.amazon.com/sagemaker/pricing/instance-types/) of different computational power and prices.\n",
    "When creating an instance, we can specify the instance name and choose its type.\n",
    "In [Fig. 18.1.3](#fig18.1.3), we choose `ml.p3.2xlarge`. With one Tesla V100 GPU and an 8-core CPU, this instance is powerful enough for most chapters.\n",
    "\n",
    "![Choose the instance type.](../img/sagemaker-create-2.png)\n",
    "\n",
    "<center id=\"fig18.1.3\"><i>Fig. 18.1.3 Choose the instance type.</i></center>\n"
   ]
  },
  {
   "cell_type": "markdown",
   "metadata": {},
   "source": [
    "A Jupyter notebook version of this book for fitting SageMaker is available at https://github.com/d2l-ai/d2l-pytorch-sagemaker. We can specify this GitHub repository URL to let SageMaker clone this repository during instance creation, as shown in [Fig. 18.1.4](#fig18.1.4).\n"
   ]
  },
  {
   "cell_type": "markdown",
   "metadata": {},
   "source": [
    "![Specify the GitHub repository.](../img/sagemaker-create-3.png)\n",
    "\n",
    "<center id=\"fig18.1.4\"><i>Fig. 18.1.4 Specify the GitHub repository.</i></center>\n",
    "\n",
    "\n",
    "\n",
    "## 18.1.3 Running and Stopping an Instance\n",
    "\n",
    "It may take a few minutes before the instance is ready.\n",
    "When it is ready, you can click on the \"Open Jupyter\" link as shown in [Fig. 18.1.5](#fig18.1.5).\n",
    "\n",
    "![Open Jupyter on the created SageMaker instance.](../img/sagemaker-open.png)\n",
    "\n",
    "<center id=\"fig18.1.5\"><i>Fig. 18.1.5 Open Jupyter on the created SageMaker instance.</i></center>\n",
    "\n",
    "Then, as shown in [Fig. 18.1.6](#fig18.1.6), you may navigate through the Jupyter server running on this instance.\n",
    "\n",
    "![The Jupyter server running on the SageMaker instance.](../img/sagemaker-jupyter.png)\n",
    "\n",
    "<center id=\"fig18.1.6\"><i>Fig. 18.1.6 The Jupyter server running on the SageMaker instance.</i></center>\n",
    "\n",
    "Running and editing Jupyter notebooks on the SageMaker instance is similar to what we have discussed in [Using Jupyter](https://d2l.ai/chapter_appendix-tools-for-deep-learning/jupyter.html).\n",
    "After finishing your work, do not forget to stop the instance to avoid further charging, as shown in [Fig. 18.1.7](#fig18.1.7).\n",
    "\n",
    "![Stop a SageMaker instance.](../img/sagemaker-stop.png)\n",
    "\n",
    "<center id=\"fig18.1.7\"><i>Fig. 18.1.7 Stop a SageMaker instance.</i></center>\n",
    "\n",
    "\n",
    "## 18.1.4 Updating Notebooks\n"
   ]
  },
  {
   "cell_type": "markdown",
   "metadata": {},
   "source": [
    "We will regularly update the notebooks in the [d2l-ai/d2l-pytorch-sagemaker](https://github.com/d2l-ai/d2l-pytorch-sagemaker) GitHub repository. You can simply use the `git pull` command to update to the latest version.\n"
   ]
  },
  {
   "cell_type": "markdown",
   "metadata": {},
   "source": [
    "First, you need to open a terminal as shown in [Fig. 18.1.8](#fig18.1.8).\n",
    "\n",
    "![Open a terminal on the SageMaker instance.](../img/sagemaker-terminal.png)\n",
    "\n",
    "<center id=\"fig18.1.8\"><i>Fig. 18.1.8 Open a terminal on the SageMaker instance.</i></center>\n",
    "\n",
    "You may want to commit your local changes before pulling the updates. Alternatively, you can simply ignore all your local changes with the following commands in the terminal.\n"
   ]
  },
  {
   "cell_type": "markdown",
   "metadata": {},
   "source": [
    "```bash\n",
    "cd SageMaker/d2l-pytorch-sagemaker/\n",
    "git reset --hard\n",
    "git pull\n",
    "```\n"
   ]
  },
  {
   "cell_type": "markdown",
   "metadata": {},
   "source": [
    "## 18.1.5 Summary\n",
    "\n",
    "* We can launch and stop a Jupyter server through Amazon SageMaker to run this book.\n",
    "* We can update notebooks via the terminal on the Amazon SageMaker instance.\n",
    "\n",
    "\n",
    "## 18.1.6 Exercises\n",
    "\n",
    "1. Try to edit and run the code in this book using Amazon SageMaker.\n",
    "1. Access the source code directory via the terminal.\n",
    "\n"
   ]
  }
 ],
 "metadata": {
  "instance_type": "ml.g4dn.xlarge",
  "kernelspec": {
   "display_name": "d2l",
   "language": "python",
   "name": "conda-env-d2l-py"
  },
  "language_info": {
   "name": "python"
  }
 },
 "nbformat": 4,
 "nbformat_minor": 4
}