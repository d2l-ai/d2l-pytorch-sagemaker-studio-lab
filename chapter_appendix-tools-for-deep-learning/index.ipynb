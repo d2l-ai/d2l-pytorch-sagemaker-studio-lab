{
 "cells": [
  {
   "cell_type": "markdown",
   "metadata": {},
   "source": [
    "# 18 Appendix: Tools for Deep Learning\n",
    "\n",
    "\n",
    "In this chapter, we will walk you through major tools for deep learning. If you are interested to learning how to train models on Cloud such as Amazon SageMaker, you may dive deep into [Section 18.1](../chapter_appendix-tools-for-deep-learning/sagemaker.ipynb). Besides, if you would like to purchase your own GPUs, we also note down some practical suggestions in [Section 18.2](../chapter_appendix-tools-for-deep-learning/selecting-servers-gpus.ipynb). If you are interested in being a contributor of this book, you may follow the instructions in [Section 18.3](../chapter_appendix-tools-for-deep-learning/contributing.ipynb).\n",
    "\n",
    ":begin_tab:toc\n",
    " - [sagemaker](sagemaker.ipynb)\n",
    " - [selecting-servers-gpus](selecting-servers-gpus.ipynb)\n",
    " - [contributing](contributing.ipynb)\n",
    ":end_tab:\n"
   ]
  }
 ],
 "metadata": {
  "instance_type": "ml.g4dn.xlarge",
  "kernelspec": {
   "display_name": "d2l",
   "language": "python",
   "name": "d2l"
  },
  "language_info": {
   "name": "python"
  }
 },
 "nbformat": 4,
 "nbformat_minor": 4
}