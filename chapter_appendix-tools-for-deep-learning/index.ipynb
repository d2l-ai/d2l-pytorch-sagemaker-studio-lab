{
 "cells": [
  {
   "cell_type": "markdown",
   "metadata": {},
   "source": [
    "# 18 Appendix: Tools for Deep Learning\n",
    "\n",
    "\n",
    "In this chapter, we will walk you through major tools for deep learning, from introducing Jupyter notebook in :numref:`sec_jupyter` to empowering you training models on Cloud such as Amazon SageMaker in [Section 18.1](../chapter_appendix-tools-for-deep-learning/sagemaker.ipynb) and Amazon EC2 in :numref:`sec_aws`. Besides, if you would like to purchase your own GPUs, we also note down some practical suggestions in [Section 18.2](../chapter_appendix-tools-for-deep-learning/selecting-servers-gpus.ipynb). If you are interested in being a contributor of this book, you may follow the instructions in [Section 18.3](../chapter_appendix-tools-for-deep-learning/contributing.ipynb).\n",
    "\n",
    "\n",
    ":begin_tab:toc\n",
    " - [sagemaker](sagemaker.ipynb)\n",
    " - [selecting-servers-gpus](selecting-servers-gpus.ipynb)\n",
    " - [contributing](contributing.ipynb)\n",
    ":end_tab:\n"
   ]
  }
 ],
 "metadata": {
  "instance_type": "ml.g4dn.xlarge",
  "kernelspec": {
   "display_name": "d2l",
   "language": "python",
   "name": "conda-env-d2l-py"
  },
  "language_info": {
   "name": "python"
  }
 },
 "nbformat": 4,
 "nbformat_minor": 4
}