{
 "cells": [
  {
   "cell_type": "markdown",
   "metadata": {
    "ExecuteTime": {
     "end_time": "2021-10-07T18:39:36.505187Z",
     "start_time": "2021-10-07T18:39:36.404141Z"
    }
   },
   "source": [
    "# Getting Started with D2L\n",
    "\n",
    "\n",
    "[Dive into Deep Learning (D2L)](https://www.d2l.ai/) is an open source, interactive book that teaches the ideas, the mathematical theory, and the code that powers deep learning. With over 150 Jupyter notebooks, D2L provides a comprehensive overview of deep learning principles and a state-of-the-art introduction to deep learning in computer vision and natural language processing. With tens of millions of online page views, D2L has been adopted for teaching by over 250 universities from 50 countries (e.g., Stanford University, Massachusetts Institute of Technology, and University of Cambridge). \n",
    "\n",
    "\n",
    "## Step 1: Start Instance\n",
    "\n",
    "Choose `CPU` or `GPU` and click `Start instance`.\n",
    "First-time users without GPU experience\n",
    "are recommended to start with `CPU`.\n",
    "\n",
    "## Step 2: Copy to Project\n",
    "\n",
    "Click `Copy to project`\n",
    "and keep all the prompts as default \n",
    "when cloning the Git repository.\n",
    "This will automatically \n",
    "create the `d2l` kernel environment."
   ]
  }
 ],
 "metadata": {
  "kernelspec": {
   "display_name": "Python 3",
   "language": "python",
   "name": "python3"
  },
  "language_info": {
   "codemirror_mode": {
    "name": "ipython",
    "version": 3
   },
   "file_extension": ".py",
   "mimetype": "text/x-python",
   "name": "python",
   "nbconvert_exporter": "python",
   "pygments_lexer": "ipython3",
   "version": "3.8.5"
  }
 },
 "nbformat": 4,
 "nbformat_minor": 4
}
