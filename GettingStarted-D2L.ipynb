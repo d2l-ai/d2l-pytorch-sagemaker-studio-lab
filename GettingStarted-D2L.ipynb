{
 "cells": [
  {
   "cell_type": "markdown",
   "metadata": {
    "ExecuteTime": {
     "end_time": "2021-10-07T18:39:36.505187Z",
     "start_time": "2021-10-07T18:39:36.404141Z"
    }
   },
   "source": [
    "# D2L Homepage\n",
    "\n",
    "\n",
    "*Dive into Deep Learning (D2L)* is an open source, interactive book that teaches the ideas, the mathematical theory, and the code that powers deep learning. With over 150 Jupyter notebooks, D2L provides a comprehensive overview of deep learning principles and a state-of-the-art introduction to deep learning in computer vision and natural language processing. \n",
    "\n",
    "## Getting Started with D2L\n",
    "\n",
    "There are just two steps to start your deep learning journey!\n",
    "\n",
    "### Step 1: Start Instance\n",
    "\n",
    "Choose `CPU` or `GPU` and click `Start instance`.\n",
    "First-time users without GPU experience\n",
    "are recommended to start with `CPU`.\n",
    "\n",
    "### Step 2: Copy to Project\n",
    "\n",
    "Click `Copy to project`\n",
    "and keep all the prompts as default \n",
    "when cloning the Git repository.\n",
    "This will automatically \n",
    "create the `d2l` kernel environment.\n",
    "\n",
    "\n",
    "## D2L Introduction\n",
    "\n",
    "\n",
    "D2L publishes content at [d2l.ai](https://www.d2l.ai/) \n",
    "with source code released on GitHub [d2l-en](https://github.com/d2l-ai/d2l-en). \n",
    "The source code gained 35K GitHub stars and contributions from 425 users.\n",
    "This open-source book represents our attempt to make deep learning approachable, \n",
    "teaching you the concepts, the context, and the code. \n",
    "The entire book is drafted in Jupyter notebooks, \n",
    "seamlessly integrating exposition figures, math, \n",
    "and interactive examples with self-contained code.\n",
    "\n",
    "Our goal is to offer a resource that could\n",
    "1. be freely available for everyone;\n",
    "1. offer sufficient technical depth to provide a starting point on the path to actually becoming an applied machine learning scientist;\n",
    "1. include runnable code, showing readers how to solve problems in practice;\n",
    "1. allow for rapid updates, both by us and also by the community at large.\n",
    "\n",
    "\n",
    "### Endorsements\n",
    "\n",
    "With tens of millions of online page views, \n",
    "D2L has been widely adopted by engineers, researchers, and students.\n",
    "Here are a few endorsements by industry leaders:\n",
    "\n",
    "> \"In less than a decade, the AI revolution has swept from research labs to broad industries to every corner of our daily life. Dive into Deep Learning is an excellent text on deep learning and deserves attention from anyone who wants to learn why deep learning has ignited the AI revolution: the most powerful technology force of our time.\"\n",
    ">\n",
    "> — **Jensen Huang, Founder and CEO, NVIDIA**\n",
    "\n",
    "> \"This is a timely, fascinating book, providing with not only a comprehensive overview of deep learning principles but also detailed algorithms with hands-on programming code, and moreover, a state-of-the-art introduction to deep learning in computer vision and natural language processing. Dive into this book if you want to dive into deep learning!\"\n",
    ">\n",
    "> — **Jiawei Han, Michael Aiken Chair Professor, University of Illinois at Urbana-Champaign**\n",
    "\n",
    "> \"This is a highly welcome addition to the machine learning literature, with a focus on hands-on experience implemented via the integration of Jupyter notebooks. Students of deep learning should find this invaluable to become proficient in this field.\"\n",
    ">\n",
    "> — **Bernhard Schölkopf, Director, Max Planck Institute for Intelligent Systems**\n",
    "\n",
    "\n",
    "### Teaching at Universities\n",
    "\n",
    "D2L has been adopted for teaching by over 250 universities \n",
    "from more than 50 countries around the world, \n",
    "including USA (60 universities), India (25), China (19), Germany (11) and Italy (10),\n",
    "and African universities (5 from Egypt, South Africa and Nigeria).\n",
    "\n",
    "![](static/img/map.png)\n",
    "\n",
    "\n",
    "These universities include more than half of Top 30 universities \n",
    "(e.g., Stanford University, Massachusetts Institute of Technology, \n",
    "and University of Cambridge) adopt D2L as course or supplemental material. \n",
    "The full university adoptions are shown below with their logos:"
   ]
  },
  {
   "cell_type": "markdown",
   "metadata": {},
   "source": [
    "![](static/img/logoimg1.png)\n",
    "![](static/img/logoimg2.png)\n",
    "![](static/img/logoimg3.png)\n",
    "![](static/img/logoimg4.png)\n",
    "![](static/img/logoimg5.png)\n",
    "![](static/img/logoimg6.png)"
   ]
  }
 ],
 "metadata": {
  "kernelspec": {
   "display_name": "Python 3",
   "language": "python",
   "name": "python3"
  },
  "language_info": {
   "codemirror_mode": {
    "name": "ipython",
    "version": 3
   },
   "file_extension": ".py",
   "mimetype": "text/x-python",
   "name": "python",
   "nbconvert_exporter": "python",
   "pygments_lexer": "ipython3",
   "version": "3.8.8"
  }
 },
 "nbformat": 4,
 "nbformat_minor": 4
}
