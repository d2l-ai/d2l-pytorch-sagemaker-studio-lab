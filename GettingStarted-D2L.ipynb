{
 "cells": [
  {
   "cell_type": "markdown",
   "metadata": {
    "ExecuteTime": {
     "end_time": "2021-10-07T18:39:36.505187Z",
     "start_time": "2021-10-07T18:39:36.404141Z"
    }
   },
   "source": [
    "## Getting Started with D2L\n",
    "\n",
    "You are just a few steps away to D2L runnable notebooks:\n",
    "\n",
    "### Starting Instance\n",
    "\n",
    "Choose `CPU` or `GPU` and click `Start instance`.\n",
    "For first-time users without GPU experience, \n",
    "we recommend you to start with `CPU`.\n",
    "\n",
    "### Clone D2L to project\n",
    "Simply click on the button `Copy to project`, \n",
    "and you can choose clone the entire GitHub repo.\n",
    "By keeping all the prompts as default \n",
    "when you are cloning, \n",
    "we will automatically setup the \n",
    "`d2l` kerenl environment for your convenience."
   ]
  }
 ],
 "metadata": {
  "kernelspec": {
   "display_name": "Python 3",
   "language": "python",
   "name": "python3"
  },
  "language_info": {
   "codemirror_mode": {
    "name": "ipython",
    "version": 3
   },
   "file_extension": ".py",
   "mimetype": "text/x-python",
   "name": "python",
   "nbconvert_exporter": "python",
   "pygments_lexer": "ipython3",
   "version": "3.8.8"
  }
 },
 "nbformat": 4,
 "nbformat_minor": 4
}
