{
 "cells": [
  {
   "cell_type": "markdown",
   "metadata": {
    "ExecuteTime": {
     "end_time": "2021-10-07T18:39:36.505187Z",
     "start_time": "2021-10-07T18:39:36.404141Z"
    }
   },
   "source": [
    "[![Open In Studio Lab](https://studiolab.sagemaker.aws/studiolab.svg)](https://studiolab.sagemaker.aws/import/github/d2l-ai/d2l-pytorch-sagemaker-studio-lab/blob/main/GettingStarted-D2L.ipynb)\n",
    "\n",
    "# Dive into Deep Learning (D2L) Homepage\n",
    "\n",
    "\n",
    "*Dive into Deep Learning (D2L)* is an open source, interactive book that teaches the ideas, the mathematical theory, and the code that powers machine learning. With over 150 Jupyter notebooks, D2L provides a comprehensive overview of deep learning principles and a state-of-the-art introduction to deep learning in computer vision and natural language processing. \n",
    "\n",
    "## Getting Started with D2L\n",
    "\n",
    "After requesting account and signing in (it's free), there are just two steps to start your deep learning journey!\n",
    "\n",
    "### Step 1: Start Instance\n",
    "\n",
    "Choose `CPU` or `GPU` and click `Start runtime`.\n",
    "First-time users without GPU experience\n",
    "are recommended to start with `CPU`.\n",
    "\n",
    "### Step 2: Copy to Project\n",
    "\n",
    "Click `Copy to project`.\n",
    "First-time users\n",
    "are recommended to select \"Clone Entire Repo\"\n",
    "and keep all the prompts as default \n",
    "when cloning the Git repository.\n",
    "Confirm to build  Conda environment (`d2l` kernel).\n",
    "\n",
    "Now you are ready to start with `README.ipynb` in the cloned repo!\n",
    "\n",
    "\n",
    "## Learning by Doing\n",
    "\n",
    "D2L represents our attempt to make deep learning approachable, teaching you the concepts, the context, and the code. The entire book is drafted in Jupyter notebooks, seamlessly integrating exposition figures, math, and interactive examples with self-contained code.\n",
    "\n",
    "Our goal is to offer a resource that could\n",
    "1. be freely available for everyone;\n",
    "1. offer sufficient technical depth to provide a starting point on the path to actually becoming an applied machine learning scientist;\n",
    "1. include runnable code, showing readers how to solve problems in practice;\n",
    "1. allow for rapid updates, both by us and also by the community at large.\n",
    "\n",
    "\n",
    "\n",
    "\n",
    "## Endorsements\n",
    "\n",
    "> \"In less than a decade, the AI revolution has swept from research labs to broad industries to every corner of our daily life. Dive into Deep Learning is an excellent text on deep learning and deserves attention from anyone who wants to learn why deep learning has ignited the AI revolution: the most powerful technology force of our time.\"\n",
    ">\n",
    "> — **Jensen Huang, Founder and CEO, NVIDIA**\n",
    "\n",
    "> \"This is a timely, fascinating book, providing with not only a comprehensive overview of deep learning principles but also detailed algorithms with hands-on programming code, and moreover, a state-of-the-art introduction to deep learning in computer vision and natural language processing. Dive into this book if you want to dive into deep learning!\"\n",
    ">\n",
    "> — **Jiawei Han, Michael Aiken Chair Professor, University of Illinois at Urbana-Champaign**\n",
    "\n",
    "> \"This is a highly welcome addition to the machine learning literature, with a focus on hands-on experience implemented via the integration of Jupyter notebooks. Students of deep learning should find this invaluable to become proficient in this field.\"\n",
    ">\n",
    "> — **Bernhard Schölkopf, Director, Max Planck Institute for Intelligent Systems**\n",
    "\n",
    "\n",
    "## Universities Using D2L\n",
    "\n",
    "D2L has been adopted for teaching by 300 universities from 55 countries, including:\n",
    "\n",
    "\n"
   ]
  },
  {
   "cell_type": "markdown",
   "metadata": {},
   "source": [
    "![](static/img/univ-logos.png)\n",
    "\n",
    "![](static/img/map.png)"
   ]
  }
 ],
 "metadata": {
  "kernelspec": {
   "display_name": "Python 3",
   "language": "python",
   "name": "conda-env-.conda-default-py"
  },
  "language_info": {
   "codemirror_mode": {
    "name": "ipython",
    "version": 3
   },
   "file_extension": ".py",
   "mimetype": "text/x-python",
   "name": "python",
   "nbconvert_exporter": "python",
   "pygments_lexer": "ipython3",
   "version": "3.8.5"
  }
 },
 "nbformat": 4,
 "nbformat_minor": 4
}
